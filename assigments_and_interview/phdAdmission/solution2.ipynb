{
 "cells": [
  {
   "cell_type": "code",
   "execution_count": 8,
   "id": "a778d271-86e6-44af-99ee-51284502c3d2",
   "metadata": {},
   "outputs": [],
   "source": [
    "from typing import List\n",
    "\n",
    "def minor_matrix(M : List[List[int]], i: int, j : int):\n",
    "    # Using List Comprehension\n",
    "    return [[M[row][col] for col in range(len(M)) if col != j] for row in range(len(M)) if row != i]  # Returning everything except ith row, jth column.\n",
    "\n"
   ]
  },
  {
   "cell_type": "code",
   "execution_count": 9,
   "id": "84299746-8f2c-4053-9f21-ce125f52e144",
   "metadata": {},
   "outputs": [
    {
     "name": "stdout",
     "output_type": "stream",
     "text": [
      "[1, 2]\n",
      "[7, 8]\n"
     ]
    }
   ],
   "source": [
    "# Driver Code:\n",
    "M = [[1, 2, 3],\n",
    "     [4, 5, 6],\n",
    "     [7, 8, 9]]\n",
    "\n",
    "i = 1\n",
    "j = 2\n",
    "\n",
    "\n",
    "Mij = minor_matrix(M, i, j)\n",
    "for row in Mij:\n",
    "    print(row)\n"
   ]
  }
 ],
 "metadata": {
  "kernelspec": {
   "display_name": "Python 3 (ipykernel)",
   "language": "python",
   "name": "python3"
  },
  "language_info": {
   "codemirror_mode": {
    "name": "ipython",
    "version": 3
   },
   "file_extension": ".py",
   "mimetype": "text/x-python",
   "name": "python",
   "nbconvert_exporter": "python",
   "pygments_lexer": "ipython3",
   "version": "3.11.6"
  }
 },
 "nbformat": 4,
 "nbformat_minor": 5
}
