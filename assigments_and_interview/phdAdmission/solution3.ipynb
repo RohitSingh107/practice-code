{
 "cells": [
  {
   "cell_type": "code",
   "execution_count": 1,
   "id": "22527af5-1f7f-45cf-aa4f-9ff7b85555b9",
   "metadata": {},
   "outputs": [],
   "source": [
    "# Import the necessary libraries\n",
    "from bs4 import BeautifulSoup\n",
    "import requests\n",
    "import csv\n",
    "import urllib.parse"
   ]
  },
  {
   "cell_type": "code",
   "execution_count": 2,
   "id": "30734117-c7b5-4fe3-a771-44eac48b225c",
   "metadata": {},
   "outputs": [],
   "source": [
    "\n",
    "# Define the URL of the webpage you want to scrape\n",
    "url = 'https://news.ycombinator.com/newest'"
   ]
  },
  {
   "cell_type": "code",
   "execution_count": 3,
   "id": "c753ca6f-653d-424a-9948-7358e97821d1",
   "metadata": {},
   "outputs": [],
   "source": [
    "# Send a GET request to the URL\n",
    "response = requests.get(url)"
   ]
  },
  {
   "cell_type": "code",
   "execution_count": 4,
   "id": "2dd9fbfe-8c17-4d49-b46e-f53b71179bac",
   "metadata": {},
   "outputs": [],
   "source": [
    "\n",
    "# Parse the HTML content of the webpage using Beautiful Soup\n",
    "soup = BeautifulSoup(response.content, 'html.parser')\n"
   ]
  },
  {
   "cell_type": "code",
   "execution_count": 5,
   "id": "7732df9e-1d32-4bd7-9f1c-738e82d64e02",
   "metadata": {},
   "outputs": [],
   "source": [
    "# Find all elements with a specific class\n",
    "headlines = soup.find_all(class_='titleline')\n",
    "sublines = soup.find_all(class_= 'subline')\n",
    "more = soup.find('a', class_ = 'morelink')"
   ]
  },
  {
   "cell_type": "code",
   "execution_count": 6,
   "id": "329a27fa-c7ea-48b0-9eca-82d00993a960",
   "metadata": {},
   "outputs": [],
   "source": [
    "# Fetch more news\n",
    "for _ in range(3):\n",
    "    href = more.get('href')\n",
    "    \n",
    "    # Parse the URL to extract query parameters\n",
    "    parsed_url = urllib.parse.urlparse(href)\n",
    "    \n",
    "    # Get the query parameters as a dictionary\n",
    "    query_params = urllib.parse.parse_qs(parsed_url.query)\n",
    "    \n",
    "    # Extract 'next' and 'n' parameters\n",
    "    next_param = query_params.get('next')\n",
    "    n_param = query_params.get('n')\n",
    "    \n",
    "    response = requests.get(url, params = {\"n\" : n_param, \"next\" : next_param})\n",
    "    \n",
    "    # Parse the HTML content of the webpage using Beautiful Soup\n",
    "    soup = BeautifulSoup(response.content, 'html.parser')\n",
    "    \n",
    "    # Find all elements with a specific class\n",
    "    headlines += soup.find_all(class_='titleline')\n",
    "    sublines += soup.find_all(class_= 'subline')\n",
    "    more = soup.find('a', class_ = 'morelink')\n",
    "    "
   ]
  },
  {
   "cell_type": "code",
   "execution_count": 7,
   "id": "fbba6947-db21-402c-bfcf-bd2730ed3ee6",
   "metadata": {},
   "outputs": [
    {
     "name": "stdout",
     "output_type": "stream",
     "text": [
      "Data exported to ycombinator_news.csv\n"
     ]
    }
   ],
   "source": [
    "\n",
    "# Specify the CSV file name\n",
    "csv_file = \"ycombinator_news.csv\"\n",
    "quantity = 100\n",
    "\n",
    "# Write the data to CSV\n",
    "with open(csv_file, 'w', newline='', encoding='utf-8') as file:\n",
    "    writer = csv.writer(file)\n",
    "    writer.writerow([\"S. No.\", \"Headline\", \"Website\", \"point by\", \"minutes ago\"])  # Write header row\n",
    "\n",
    "    for i in range(quantity):\n",
    "        \n",
    "        headline = headlines[i].find('a').text\n",
    "        website = \"No website given\" if (w := headlines[i].find('span', class_='sitestr')) is None else w.text\n",
    "        point_by = sublines[i].find('a', class_= 'hnuser').text\n",
    "        minutes_ago = sublines[i].find('span', class_= 'age').text\n",
    "        writer.writerow([i + 1, headline, website, point_by, minutes_ago])\n",
    "\n",
    "print(\"Data exported to\", csv_file)\n"
   ]
  }
 ],
 "metadata": {
  "kernelspec": {
   "display_name": "Python 3 (ipykernel)",
   "language": "python",
   "name": "python3"
  },
  "language_info": {
   "codemirror_mode": {
    "name": "ipython",
    "version": 3
   },
   "file_extension": ".py",
   "mimetype": "text/x-python",
   "name": "python",
   "nbconvert_exporter": "python",
   "pygments_lexer": "ipython3",
   "version": "3.11.6"
  }
 },
 "nbformat": 4,
 "nbformat_minor": 5
}
