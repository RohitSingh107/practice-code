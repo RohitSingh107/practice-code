{
 "cells": [
  {
   "cell_type": "code",
   "execution_count": 19,
   "id": "e2b1fd2e-debc-494d-bead-22bb88ab6ad0",
   "metadata": {},
   "outputs": [],
   "source": [
    "import requests\n",
    "import json\n",
    "from bs4 import BeautifulSoup\n",
    "import m3u8\n",
    "import subprocess"
   ]
  },
  {
   "cell_type": "code",
   "execution_count": 20,
   "id": "50f3c9a5-f974-411e-bef0-c2b755ab33fc",
   "metadata": {},
   "outputs": [],
   "source": [
    "SNAP_URL = 'https://t.snapchat.com/BAxCQe9u'\n",
    "OUTPUT_NAME = 'mysnap'\n",
    "chunk_size = 256"
   ]
  },
  {
   "cell_type": "code",
   "execution_count": 21,
   "id": "7eeb04be-07fc-4b58-a9f9-fafe56f02e20",
   "metadata": {},
   "outputs": [],
   "source": [
    "r = requests.get(SNAP_URL)"
   ]
  },
  {
   "cell_type": "code",
   "execution_count": 22,
   "id": "8e97b968-024c-4bef-9f9e-58b0af6a5bd6",
   "metadata": {},
   "outputs": [],
   "source": [
    "soup = BeautifulSoup(r.text, 'html.parser')"
   ]
  },
  {
   "cell_type": "code",
   "execution_count": 23,
   "id": "23ba37d2-3e23-499c-9235-cfdc0082eadb",
   "metadata": {},
   "outputs": [],
   "source": [
    "script_tag = soup.find(\"script\", {\"id\": \"__NEXT_DATA__\"})"
   ]
  },
  {
   "cell_type": "code",
   "execution_count": 24,
   "id": "fafbcceb-d52d-4594-8a8f-65817d4bdfdf",
   "metadata": {},
   "outputs": [],
   "source": [
    "snap_data = json.loads(script_tag.string)"
   ]
  },
  {
   "cell_type": "code",
   "execution_count": 25,
   "id": "f771374f-3ea2-408a-a89a-9cd711775e3b",
   "metadata": {},
   "outputs": [],
   "source": [
    "master_m3u8_url = snap_data['props']['pageProps']['preselectedStory']['premiumStory']['playerStory']['snapList'][0]['snapUrls']['mediaUrl']"
   ]
  },
  {
   "cell_type": "code",
   "execution_count": 26,
   "id": "7badf5ea-2dc9-4e3b-9de7-7fdc2b4f1f5d",
   "metadata": {},
   "outputs": [],
   "source": [
    "r = requests.get(master_m3u8_url)"
   ]
  },
  {
   "cell_type": "code",
   "execution_count": 27,
   "id": "085c4122-82ff-40d3-8262-0b08b780e43e",
   "metadata": {},
   "outputs": [],
   "source": [
    "master_m3u8 = m3u8.loads(r.text)"
   ]
  },
  {
   "cell_type": "code",
   "execution_count": 28,
   "id": "7502d56c-864b-4fa6-95bd-3b89c36893ff",
   "metadata": {},
   "outputs": [],
   "source": [
    "video_m3u8_url = 'https://cf-st.sc-cdn.net/d/' + master_m3u8.data['playlists'][-1]['uri']"
   ]
  },
  {
   "cell_type": "code",
   "execution_count": 29,
   "id": "57753e6b-521e-4c08-8da2-1bf9f744c447",
   "metadata": {},
   "outputs": [],
   "source": [
    "audio_m3u8_url = 'https://cf-st.sc-cdn.net/d/' + master_m3u8.data['media'][-1]['uri']"
   ]
  },
  {
   "cell_type": "code",
   "execution_count": 30,
   "id": "6c14486f-2716-4b86-a0f7-408a60be5b13",
   "metadata": {},
   "outputs": [],
   "source": [
    "rv = requests.get(video_m3u8_url)\n",
    "ra = requests.get(audio_m3u8_url)"
   ]
  },
  {
   "cell_type": "code",
   "execution_count": 31,
   "id": "ecdc0e6a-9940-402b-b34d-f4229540feca",
   "metadata": {},
   "outputs": [],
   "source": [
    "video_m3u8 = m3u8.loads(rv.text)\n",
    "audio_m3u8 = m3u8.loads(ra.text)"
   ]
  },
  {
   "cell_type": "code",
   "execution_count": 32,
   "id": "2a459b3f-8275-4f59-ae89-2ea3af7ef2cc",
   "metadata": {},
   "outputs": [],
   "source": [
    "video_url = 'https://cf-st.sc-cdn.net/d/' + video_m3u8.data['segment_map'][0]['uri']\n",
    "audio_url = 'https://cf-st.sc-cdn.net/d/' + audio_m3u8.data['segment_map'][0]['uri']"
   ]
  },
  {
   "cell_type": "code",
   "execution_count": 33,
   "id": "57c12695-93cc-46f3-a25a-56f82286aed7",
   "metadata": {},
   "outputs": [
    {
     "data": {
      "text/plain": [
       "'https://cf-st.sc-cdn.net/d/TXQJ8MboZ0Uc7miSwkpDS.85.mp4'"
      ]
     },
     "execution_count": 33,
     "metadata": {},
     "output_type": "execute_result"
    }
   ],
   "source": [
    "video_url"
   ]
  },
  {
   "cell_type": "code",
   "execution_count": 34,
   "id": "db9eddee-1d91-4cd9-8d85-85433c1e873a",
   "metadata": {},
   "outputs": [],
   "source": [
    "r = requests.get(url=video_url, stream=True)\n",
    "with open(f\"{OUTPUT_NAME}-video.mp4\", \"wb\") as f:\n",
    "    for chunk in r.iter_content(chunk_size=chunk_size):\n",
    "        f.write(chunk)"
   ]
  },
  {
   "cell_type": "code",
   "execution_count": 35,
   "id": "d91e9662-9709-49a2-a2be-857426e32e8b",
   "metadata": {},
   "outputs": [],
   "source": [
    "r = requests.get(url=audio_url, stream=True)\n",
    "with open(f\"{OUTPUT_NAME}-audio.mp4\", \"wb\") as f:\n",
    "    for chunk in r.iter_content(chunk_size=chunk_size):\n",
    "        f.write(chunk)"
   ]
  },
  {
   "cell_type": "code",
   "execution_count": 36,
   "id": "3309e647-2794-4c2c-b4e7-f0e5732d7e78",
   "metadata": {},
   "outputs": [
    {
     "name": "stderr",
     "output_type": "stream",
     "text": [
      "ffmpeg version n6.0 Copyright (c) 2000-2023 the FFmpeg developers\n",
      "  built with gcc 13.1.1 (GCC) 20230429\n",
      "  configuration: --prefix=/usr --disable-debug --disable-static --disable-stripping --enable-amf --enable-avisynth --enable-cuda-llvm --enable-lto --enable-fontconfig --enable-gmp --enable-gnutls --enable-gpl --enable-ladspa --enable-libaom --enable-libass --enable-libbluray --enable-libbs2b --enable-libdav1d --enable-libdrm --enable-libfreetype --enable-libfribidi --enable-libgsm --enable-libiec61883 --enable-libjack --enable-libjxl --enable-libmfx --enable-libmodplug --enable-libmp3lame --enable-libopencore_amrnb --enable-libopencore_amrwb --enable-libopenjpeg --enable-libopenmpt --enable-libopus --enable-libpulse --enable-librav1e --enable-librsvg --enable-libsoxr --enable-libspeex --enable-libsrt --enable-libssh --enable-libsvtav1 --enable-libtheora --enable-libv4l2 --enable-libvidstab --enable-libvmaf --enable-libvorbis --enable-libvpx --enable-libwebp --enable-libx264 --enable-libx265 --enable-libxcb --enable-libxml2 --enable-libxvid --enable-libzimg --enable-nvdec --enable-nvenc --enable-opencl --enable-opengl --enable-shared --enable-version3 --enable-vulkan\n",
      "  libavutil      58.  2.100 / 58.  2.100\n",
      "  libavcodec     60.  3.100 / 60.  3.100\n",
      "  libavformat    60.  3.100 / 60.  3.100\n",
      "  libavdevice    60.  1.100 / 60.  1.100\n",
      "  libavfilter     9.  3.100 /  9.  3.100\n",
      "  libswscale      7.  1.100 /  7.  1.100\n",
      "  libswresample   4. 10.100 /  4. 10.100\n",
      "  libpostproc    57.  1.100 / 57.  1.100\n",
      "Input #0, mov,mp4,m4a,3gp,3g2,mj2, from 'mysnap-video.mp4':\n",
      "  Metadata:\n",
      "    major_brand     : isom\n",
      "    minor_version   : 0\n",
      "    compatible_brands: iso8mp41dashavc1cmfc\n",
      "    creation_time   : 2022-11-07T13:00:23.000000Z\n",
      "  Duration: 00:03:14.28, start: 0.000000, bitrate: 744 kb/s\n",
      "  Stream #0:0[0x1](eng): Video: h264 (High) (avc1 / 0x31637661), yuv420p(tv, bt709, progressive), 540x960, 20 kb/s, 25 fps, 25 tbr, 12800 tbn (default)\n",
      "    Metadata:\n",
      "      creation_time   : 2022-11-07T13:00:23.000000Z\n",
      "      handler_name    : VideoHandler\n",
      "      vendor_id       : [0][0][0][0]\n",
      "      encoder         : AVC Coding\n",
      "Input #1, mov,mp4,m4a,3gp,3g2,mj2, from 'mysnap-audio.mp4':\n",
      "  Metadata:\n",
      "    major_brand     : isom\n",
      "    minor_version   : 0\n",
      "    compatible_brands: iso8mp41dashcmfc\n",
      "    creation_time   : 2022-11-07T13:00:23.000000Z\n",
      "  Duration: 00:03:14.28, start: 0.000000, bitrate: 83 kb/s\n",
      "  Stream #1:0[0x1](eng): Audio: aac (LC) (mp4a / 0x6134706D), 48000 Hz, stereo, fltp, 1 kb/s (default)\n",
      "    Metadata:\n",
      "      creation_time   : 2022-11-07T13:00:23.000000Z\n",
      "      handler_name    : SoundHandler\n",
      "      vendor_id       : [0][0][0][0]\n",
      "Stream mapping:\n",
      "  Stream #0:0 -> #0:0 (copy)\n",
      "  Stream #1:0 -> #0:1 (aac (native) -> aac (native))\n",
      "Press [q] to stop, [?] for help\n",
      "Output #0, mp4, to 'mysnap.mp4':\n",
      "  Metadata:\n",
      "    major_brand     : isom\n",
      "    minor_version   : 0\n",
      "    compatible_brands: iso8mp41dashavc1cmfc\n",
      "    encoder         : Lavf60.3.100\n",
      "  Stream #0:0(eng): Video: h264 (High) (avc1 / 0x31637661), yuv420p(tv, bt709, progressive), 540x960, q=2-31, 20 kb/s, 25 fps, 25 tbr, 12800 tbn (default)\n",
      "    Metadata:\n",
      "      creation_time   : 2022-11-07T13:00:23.000000Z\n",
      "      handler_name    : VideoHandler\n",
      "      vendor_id       : [0][0][0][0]\n",
      "      encoder         : AVC Coding\n",
      "  Stream #0:1(eng): Audio: aac (LC) (mp4a / 0x6134706D), 48000 Hz, stereo, fltp, 128 kb/s (default)\n",
      "    Metadata:\n",
      "      creation_time   : 2022-11-07T13:00:23.000000Z\n",
      "      handler_name    : SoundHandler\n",
      "      vendor_id       : [0][0][0][0]\n",
      "      encoder         : Lavc60.3.100 aac\n",
      "frame= 4857 fps=563 q=-1.0 Lsize=   20804kB time=00:03:14.26 bitrate= 877.3kbits/s speed=22.5x      \n",
      "video:17597kB audio:3065kB subtitle:0kB other streams:0kB global headers:0kB muxing overhead: 0.689398%\n",
      "[aac @ 0x557e3926df80] Qavg: 1759.258\n"
     ]
    },
    {
     "data": {
      "text/plain": [
       "CompletedProcess(args=['ffmpeg', '-i', 'mysnap-video.mp4', '-i', 'mysnap-audio.mp4', '-c:v', 'copy', '-c:a', 'aac', 'mysnap.mp4'], returncode=0)"
      ]
     },
     "execution_count": 36,
     "metadata": {},
     "output_type": "execute_result"
    }
   ],
   "source": [
    "subprocess.run(['ffmpeg', '-i', f\"{OUTPUT_NAME}-video.mp4\", '-i', f\"{OUTPUT_NAME}-audio.mp4\", '-c:v', 'copy', '-c:a', 'aac', f\"{OUTPUT_NAME}.mp4\"])"
   ]
  },
  {
   "cell_type": "code",
   "execution_count": null,
   "id": "783c62f5-ca70-4176-8754-f2f2a030b806",
   "metadata": {},
   "outputs": [],
   "source": []
  },
  {
   "cell_type": "code",
   "execution_count": null,
   "id": "ea73e68c-084d-4e9b-92d6-7275667459d8",
   "metadata": {},
   "outputs": [],
   "source": []
  }
 ],
 "metadata": {
  "kernelspec": {
   "display_name": "Python 3 (ipykernel)",
   "language": "python",
   "name": "python3"
  },
  "language_info": {
   "codemirror_mode": {
    "name": "ipython",
    "version": 3
   },
   "file_extension": ".py",
   "mimetype": "text/x-python",
   "name": "python",
   "nbconvert_exporter": "python",
   "pygments_lexer": "ipython3",
   "version": "3.11.3"
  }
 },
 "nbformat": 4,
 "nbformat_minor": 5
}
